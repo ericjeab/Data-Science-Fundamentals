{
 "cells": [
  {
   "cell_type": "markdown",
   "metadata": {},
   "source": [
    "# Coding Task 2"
   ]
  },
  {
   "cell_type": "markdown",
   "metadata": {},
   "source": [
    "- Deadline (upload to Ilias): 2023-05-14 24:00\n",
    "- Solutions in lecture on 2023-05-17\n",
    "- Estimated effort: from 4 to 60 hours\n",
    "- Images (data) on Ilias in the Data folder, the images.zip file\n",
    "- Main notebook is number 11 for this task, however, also others may help you. You can also benefit a lot from googeling for code examples"
   ]
  },
  {
   "cell_type": "markdown",
   "metadata": {},
   "source": [
    "## Subtasks (maximum 12.5 points)\n"
   ]
  },
  {
   "cell_type": "markdown",
   "metadata": {},
   "source": [
    "- Upload the images to a folder on your google drive. Write a function which retrieves the filenames of the images, contains a loop converting them to png images and saves them. [about 1 hour] [max 3 points]"
   ]
  },
  {
   "cell_type": "markdown",
   "metadata": {},
   "source": [
    "### Task 1\n",
    "Images were uploaded to github and then converted in git."
   ]
  },
  {
   "cell_type": "code",
   "execution_count": 6,
   "metadata": {},
   "outputs": [],
   "source": [
    "#Modules used\n",
    "import numpy as np\n",
    "import matplotlib.pyplot as plt\n",
    "import skimage.io as io\n",
    "# from skimage.external.tifffile import TiffFile\n",
    "import skimage.filters as skf\n",
    "import skimage.morphology as skm\n",
    "from PIL import Image\n",
    "import os \n",
    "\n",
    "from heic2png import HEIC2PNG"
   ]
  },
  {
   "cell_type": "code",
   "execution_count": 13,
   "metadata": {},
   "outputs": [
    {
     "name": "stdout",
     "output_type": "stream",
     "text": [
      "Error converting IMG_5379.HEIC: The file image_png\\IMG_5379.png already exists.. Skipping...\n",
      "Converted IMG_5380.HEIC to PNG successfully.\n",
      "Converted IMG_5381.HEIC to PNG successfully.\n",
      "Converted IMG_5382.HEIC to PNG successfully.\n",
      "Converted IMG_5383.HEIC to PNG successfully.\n",
      "Converted IMG_5384.HEIC to PNG successfully.\n",
      "Converted IMG_5385.HEIC to PNG successfully.\n",
      "Converted IMG_5386.HEIC to PNG successfully.\n",
      "Converted IMG_5387.HEIC to PNG successfully.\n",
      "Converted IMG_5388.HEIC to PNG successfully.\n",
      "Converted IMG_5389.HEIC to PNG successfully.\n",
      "Converted IMG_5390.HEIC to PNG successfully.\n",
      "Converted IMG_5391.HEIC to PNG successfully.\n",
      "Converted IMG_5392.HEIC to PNG successfully.\n",
      "Converted IMG_5393.HEIC to PNG successfully.\n"
     ]
    }
   ],
   "source": [
    "img_folder_path = \"image/\"\n",
    "img_folder = os.listdir(img_folder_path)\n",
    "\n",
    "for file in os.listdir(img_folder_path):\n",
    "    heic_img_path = os.path.join(img_folder_path, file)\n",
    "    png_file_path = \"image_png/\" + file[:-4] + \"png\"\n",
    "    \n",
    "    try:\n",
    "        # Convert HEIC to PNG\n",
    "        heic_img = HEIC2PNG(heic_img_path)\n",
    "        \n",
    "        # Save the PNG file\n",
    "        heic_img.save(png_file_path)\n",
    "        print(f\"Converted {file} to PNG successfully.\")\n",
    "    except Exception as e:\n",
    "        # Log the error or handle it as needed\n",
    "        print(f\"Error converting {file}: {e}. Skipping...\")"
   ]
  },
  {
   "cell_type": "markdown",
   "metadata": {},
   "source": [
    "- With some filtering and sthresholding, write a function which converts the colored bins into nice white segments on a black background for one image. [about 1 hour][max 3 points]"
   ]
  },
  {
   "cell_type": "code",
   "execution_count": 19,
   "metadata": {},
   "outputs": [],
   "source": [
    "import cv2\n",
    "import scipy"
   ]
  },
  {
   "cell_type": "code",
   "execution_count": 64,
   "metadata": {},
   "outputs": [],
   "source": [
    "def image_input(path):\n",
    "    imageRGB  = io.imread(path)\n",
    "    image = imageRGB[:,:,2] #take gray color\n",
    "    image = image[image.shape[0]//2:image.shape[0],:] #adjusting image\n",
    "    return image"
   ]
  },
  {
   "cell_type": "code",
   "execution_count": 65,
   "metadata": {},
   "outputs": [],
   "source": [
    "def create_binary(image):\n",
    "    wellplate_f = scipy.ndimage.gaussian_filter(image,sigma=10)\n",
    "\n",
    "    thresh = cv2.threshold(wellplate_f,70, 255, cv2.THRESH_BINARY_INV)[1]\n",
    "    return thresh"
   ]
  },
  {
   "cell_type": "code",
   "execution_count": 66,
   "metadata": {},
   "outputs": [
    {
     "name": "stdout",
     "output_type": "stream",
     "text": [
      "estimated bins:49\n"
     ]
    }
   ],
   "source": [
    "img = thresh\n",
    "def bin_counting(image, window = 200, step = 100, threshold_A = 23000):\n",
    "    img = image\n",
    "    # Define the sliding window parameters\n",
    "    window_size = window  # Size of the sliding window\n",
    "    step_size = step   # Step size for moving the window\n",
    "\n",
    "    # Initialize the counter\n",
    "    counter = 0\n",
    "\n",
    "    # Define the region above which to count white pixels\n",
    "    threshold = threshold_A  # Minimum y-coordinate for the region\n",
    "\n",
    "    # Iterate over the image with the sliding window\n",
    "    for y in range(0, img.shape[0], step_size):\n",
    "        for x in range(0, img.shape[1], step_size):\n",
    "            # Extract the current window\n",
    "            window = img[y:y+window_size, x:x+window_size]\n",
    "            \n",
    "            # Count the number of white pixels in the window\n",
    "            white_pixels = np.sum(window == 255)\n",
    "            # Update the counter if the window is above the specified region\n",
    "            if white_pixels >= threshold:\n",
    "                counter += 1\n",
    "\n",
    "    # Output the result\n",
    "    return counter\n",
    "\n",
    "print(\"estimated bins:\" + str(bin_counting(thresh)))"
   ]
  },
  {
   "cell_type": "markdown",
   "metadata": {},
   "source": [
    "- Write an algorithm which does the latter task on all images. As the images are quite different, this is a large task which goes beyond the time budget of this exercise, however, you can give it a try. If it works out for a couple of images, that is already good. [from 4 to 50 hours][max 3.5 points]"
   ]
  },
  {
   "cell_type": "code",
   "execution_count": 69,
   "metadata": {},
   "outputs": [
    {
     "name": "stdout",
     "output_type": "stream",
     "text": [
      "estimated bins for IMG_5379.png:49\n",
      "estimated bins for IMG_5380.png:0\n",
      "estimated bins for IMG_5381.png:12\n",
      "estimated bins for IMG_5382.png:19\n",
      "estimated bins for IMG_5383.png:0\n",
      "estimated bins for IMG_5384.png:14\n",
      "estimated bins for IMG_5385.png:0\n",
      "estimated bins for IMG_5386.png:0\n",
      "estimated bins for IMG_5387.png:0\n",
      "estimated bins for IMG_5388.png:0\n",
      "estimated bins for IMG_5389.png:3\n",
      "estimated bins for IMG_5390.png:0\n",
      "estimated bins for IMG_5391.png:0\n",
      "estimated bins for IMG_5392.png:0\n",
      "estimated bins for IMG_5393.png:0\n"
     ]
    }
   ],
   "source": [
    "img_png_path = \"image_png\"\n",
    "for file in os.listdir(img_png_path):\n",
    "    image = image_input(img_png_path+\"/\"+file)\n",
    "    img_by = create_binary(image)\n",
    "    counter = bin_counting(img_by)\n",
    "    print(\"estimated bins for \" + file +\":\" + str(counter))\n"
   ]
  }
 ],
 "metadata": {
  "kernelspec": {
   "display_name": "Python 3",
   "language": "python",
   "name": "python3"
  },
  "language_info": {
   "codemirror_mode": {
    "name": "ipython",
    "version": 3
   },
   "file_extension": ".py",
   "mimetype": "text/x-python",
   "name": "python",
   "nbconvert_exporter": "python",
   "pygments_lexer": "ipython3",
   "version": "3.10.11"
  }
 },
 "nbformat": 4,
 "nbformat_minor": 2
}
