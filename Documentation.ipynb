{
 "cells": [
  {
   "cell_type": "markdown",
   "metadata": {},
   "source": [
    "## Documentation of the steps performed on the Ubelix cluster\n",
    "\n",
    "### Login via SSH:\n",
    "\n",
    "The {user_name} is the identifier of the Campus account, as well as the Password which is subsequently requested.\n",
    "\n",
    "Different access points are provided, ranging form 01 to 04"
   ]
  },
  {
   "cell_type": "code",
   "execution_count": null,
   "metadata": {
    "vscode": {
     "languageId": "shellscript"
    }
   },
   "outputs": [],
   "source": [
    "SSH {user_name}.@submit02.unibe.ch "
   ]
  },
  {
   "cell_type": "markdown",
   "metadata": {},
   "source": [
    "### Creation of a virtual environment:\n",
    "\n",
    "First a subfolder is created and then a VENV is created and all modules are installed with pip. Then the [Python script](job.py) is created."
   ]
  },
  {
   "cell_type": "code",
   "execution_count": null,
   "metadata": {
    "vscode": {
     "languageId": "shellscript"
    }
   },
   "outputs": [],
   "source": [
    "mkdir  DSF\n",
    "cd DSF\n",
    "nano requirements.txt #paste the requirements in the text file\n",
    "\n",
    "#create VENV, then install modules\n",
    "Pyton3 -m venv midterm\n",
    "source midterm/bin/activate\n",
    "pip install -r requirements.txt\n",
    "\n",
    "nano job.py #paste the prepared script  in the Python file\n"
   ]
  },
  {
   "cell_type": "markdown",
   "metadata": {},
   "source": [
    "### Creation of a submission file:\n",
    "\n",
    "The submission file was created according to the [Slurm documentation](https://slurm.schedmd.com/release_notes.html) and can be found [here](submit.sh) or in the next paragraph."
   ]
  },
  {
   "cell_type": "code",
   "execution_count": null,
   "metadata": {
    "vscode": {
     "languageId": "shellscript"
    }
   },
   "outputs": [],
   "source": [
    "nano submit.sh #paste the prepared submission file into the bash file"
   ]
  },
  {
   "cell_type": "markdown",
   "metadata": {},
   "source": [
    "pasted content:"
   ]
  },
  {
   "cell_type": "code",
   "execution_count": null,
   "metadata": {
    "vscode": {
     "languageId": "shellscript"
    }
   },
   "outputs": [],
   "source": [
    "#!/bin/bash\n",
    "\n",
    "#SBATCH --job-name=\"Midterm Project\"\n",
    "#SBATCH --time=00:30:00\n",
    "#SBATCH --mem-per-cpu=4GB\n",
    "\n",
    "# Load the required modules\n",
    "module load Python\n",
    "module load CUDA/12.1.1\n",
    "module load cuDNN/8.9.2.26-CUDA-12.1.1\n",
    "\n",
    "# Activate your Python environment if needed\n",
    "source ~/DSF/midterm/bin/activate\n",
    "\n",
    "# Run your Python script\n",
    "srun python3 job.py"
   ]
  },
  {
   "cell_type": "markdown",
   "metadata": {},
   "source": [
    "### Running the Job:\n"
   ]
  },
  {
   "cell_type": "code",
   "execution_count": null,
   "metadata": {
    "vscode": {
     "languageId": "shellscript"
    }
   },
   "outputs": [],
   "source": [
    "#the script can be subitted by\n",
    "sbatch submit.sh\n",
    "#if the job is successfully submitted slurm will report: Submitted batch job {job_number}\n",
    "\n",
    "#the status of the job can be checked by\n",
    "squeue -u {user_name}\n",
    "\n",
    "#debugging can be done by checking the error log of Slurm\n",
    "nano slurm-{job_number}.out"
   ]
  }
 ],
 "metadata": {
  "kernelspec": {
   "display_name": "Python 3 (ipykernel)",
   "language": "python",
   "name": "python3"
  },
  "language_info": {
   "codemirror_mode": {
    "name": "ipython",
    "version": 3
   },
   "file_extension": ".py",
   "mimetype": "text/x-python",
   "name": "python",
   "nbconvert_exporter": "python",
   "pygments_lexer": "ipython3",
   "version": "3.9.12"
  },
  "toc-autonumbering": true,
  "widgets": {
   "application/vnd.jupyter.widget-state+json": {
    "state": {},
    "version_major": 2,
    "version_minor": 0
   }
  }
 },
 "nbformat": 4,
 "nbformat_minor": 4
}
